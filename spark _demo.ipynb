{
 "cells": [
  {
   "cell_type": "markdown",
   "metadata": {},
   "source": [
    "# Spark Demo"
   ]
  },
  {
   "cell_type": "code",
   "execution_count": 1,
   "metadata": {},
   "outputs": [],
   "source": [
    "import matplotlib.pyplot as plt\n",
    "\n",
    "from pyspark.sql import SparkSession, Window, WindowSpec, Row\n",
    "from pyspark.sql.functions import lag, to_date, to_timestamp"
   ]
  },
  {
   "cell_type": "markdown",
   "metadata": {},
   "source": [
    "## Creating a Spark Session\n",
    "`SparkSession`is the entry point to interact with the underlying Spark functionality and configuration."
   ]
  },
  {
   "cell_type": "code",
   "execution_count": 2,
   "metadata": {},
   "outputs": [],
   "source": [
    "appName = 'Mirabaud Demo'\n",
    "\n",
    "spark = SparkSession \\\n",
    "    .builder \\\n",
    "    .appName(appName) \\\n",
    "    .getOrCreate()\n",
    "\n",
    "spark.sparkContext.setLogLevel('INFO')\n",
    "spark.conf.set('spark.sql.shuffle.partitions', '4')"
   ]
  },
  {
   "cell_type": "markdown",
   "metadata": {},
   "source": [
    "## Creating a DataFrame containing the raw data\n",
    "A `DataFrame`is a distributed collection of data, which is organized into named columns. Conceptually, it is equivalent to relational tables with good optimization techniques.\n",
    "### Reading from a CSV file\n",
    "We can create a `DataFrame`directly reading from a text file, like a CSV file:"
   ]
  },
  {
   "cell_type": "code",
   "execution_count": 3,
   "metadata": {
    "collapsed": true
   },
   "outputs": [
    {
     "name": "stdout",
     "output_type": "stream",
     "text": [
      "root\n",
      " |-- date: string (nullable = true)\n",
      " |-- estimation: double (nullable = true)\n",
      " |-- apport: double (nullable = true)\n",
      "\n",
      "+----------+----------+-------+\n",
      "|      date|estimation| apport|\n",
      "+----------+----------+-------+\n",
      "|31.12.2018|6318450.97|   null|\n",
      "|01.01.2019|6318450.67|   null|\n",
      "|02.01.2019|6316540.41|   null|\n",
      "|03.01.2019| 6304647.2|   null|\n",
      "|04.01.2019|6370469.52|   null|\n",
      "|05.01.2019|6370469.16|   null|\n",
      "|06.01.2019| 6370468.8|   null|\n",
      "|07.01.2019| 6385205.4|   null|\n",
      "|08.01.2019| 6413834.2|   null|\n",
      "|09.01.2019|6449599.76|   null|\n",
      "|10.01.2019|6477841.58|   null|\n",
      "|11.01.2019|6485556.17|   null|\n",
      "|12.01.2019|6485553.38|   null|\n",
      "|13.01.2019|6485550.59|   null|\n",
      "|14.01.2019|6463355.41|   null|\n",
      "|15.01.2019|6505456.63|   null|\n",
      "|16.01.2019|6532307.64|   null|\n",
      "|17.01.2019| 6545252.4|   null|\n",
      "|18.01.2019|6581208.09|   null|\n",
      "|19.01.2019|6581205.75|   null|\n",
      "|20.01.2019|6581203.41|   null|\n",
      "|21.01.2019|6580996.38|   null|\n",
      "|22.01.2019|6561812.16|   null|\n",
      "|23.01.2019|6546174.21|-7500.0|\n",
      "|24.01.2019| 6555704.7|-1100.0|\n",
      "+----------+----------+-------+\n",
      "only showing top 25 rows\n",
      "\n"
     ]
    }
   ],
   "source": [
    "raw_df = spark \\\n",
    "    .read \\\n",
    "    .format('csv') \\\n",
    "    .options(header='true', inferSchema='true', delimiter=';', dateFormat='yyyy.MM.dd') \\\n",
    "    .load('./perf-example.csv')\n",
    "\n",
    "raw_df.printSchema()\n",
    "raw_df.show(25)"
   ]
  },
  {
   "cell_type": "markdown",
   "metadata": {},
   "source": [
    "### Reading data from an Oracle Database\n",
    "Other data sources can be also used to create a `DataFrame`. For example, we could read from an Oracle Database:\n",
    "```python\n",
    "raw_df = spark \\\n",
    "    .read \\\n",
    "    .format('jdbc') \\\n",
    "    .option('url', 'jdbc:oracle:thin:username/password@//hostname:portnumber/SID') \\\n",
    "    .option('dbtable\", \"tablename') \\\n",
    "    .option('user', 'db_user_name') \\\n",
    "    .option('password', 'password') \\\n",
    "    .option('driver', 'oracle.jdbc.driver.OracleDriver') \\\n",
    "    .load()\n",
    "```"
   ]
  },
  {
   "cell_type": "markdown",
   "metadata": {},
   "source": [
    "## Transforming the data\n",
    "Data inside a `DataFrame` can be easily manipulated. For example, we could change the type of a column:"
   ]
  },
  {
   "cell_type": "code",
   "execution_count": 4,
   "metadata": {
    "collapsed": true
   },
   "outputs": [
    {
     "name": "stdout",
     "output_type": "stream",
     "text": [
      "root\n",
      " |-- date: date (nullable = true)\n",
      " |-- estimation: double (nullable = true)\n",
      " |-- apport: double (nullable = true)\n",
      "\n",
      "+----------+----------+-------+\n",
      "|      date|estimation| apport|\n",
      "+----------+----------+-------+\n",
      "|2018-12-31|6318450.97|   null|\n",
      "|2019-01-01|6318450.67|   null|\n",
      "|2019-01-02|6316540.41|   null|\n",
      "|2019-01-03| 6304647.2|   null|\n",
      "|2019-01-04|6370469.52|   null|\n",
      "|2019-01-05|6370469.16|   null|\n",
      "|2019-01-06| 6370468.8|   null|\n",
      "|2019-01-07| 6385205.4|   null|\n",
      "|2019-01-08| 6413834.2|   null|\n",
      "|2019-01-09|6449599.76|   null|\n",
      "|2019-01-10|6477841.58|   null|\n",
      "|2019-01-11|6485556.17|   null|\n",
      "|2019-01-12|6485553.38|   null|\n",
      "|2019-01-13|6485550.59|   null|\n",
      "|2019-01-14|6463355.41|   null|\n",
      "|2019-01-15|6505456.63|   null|\n",
      "|2019-01-16|6532307.64|   null|\n",
      "|2019-01-17| 6545252.4|   null|\n",
      "|2019-01-18|6581208.09|   null|\n",
      "|2019-01-19|6581205.75|   null|\n",
      "|2019-01-20|6581203.41|   null|\n",
      "|2019-01-21|6580996.38|   null|\n",
      "|2019-01-22|6561812.16|   null|\n",
      "|2019-01-23|6546174.21|-7500.0|\n",
      "|2019-01-24| 6555704.7|-1100.0|\n",
      "+----------+----------+-------+\n",
      "only showing top 25 rows\n",
      "\n"
     ]
    }
   ],
   "source": [
    "df = raw_df.withColumn('date', to_date(raw_df.date, 'dd.MM.yyyy'))\n",
    "\n",
    "df.printSchema()\n",
    "df.show(25)"
   ]
  },
  {
   "cell_type": "markdown",
   "metadata": {},
   "source": [
    "Or we could also replace all `null` values in a column with something else:"
   ]
  },
  {
   "cell_type": "code",
   "execution_count": 5,
   "metadata": {
    "collapsed": true
   },
   "outputs": [
    {
     "name": "stdout",
     "output_type": "stream",
     "text": [
      "root\n",
      " |-- date: date (nullable = true)\n",
      " |-- estimation: double (nullable = true)\n",
      " |-- apport: double (nullable = false)\n",
      "\n",
      "+----------+----------+-------+\n",
      "|      date|estimation| apport|\n",
      "+----------+----------+-------+\n",
      "|2018-12-31|6318450.97|    0.0|\n",
      "|2019-01-01|6318450.67|    0.0|\n",
      "|2019-01-02|6316540.41|    0.0|\n",
      "|2019-01-03| 6304647.2|    0.0|\n",
      "|2019-01-04|6370469.52|    0.0|\n",
      "|2019-01-05|6370469.16|    0.0|\n",
      "|2019-01-06| 6370468.8|    0.0|\n",
      "|2019-01-07| 6385205.4|    0.0|\n",
      "|2019-01-08| 6413834.2|    0.0|\n",
      "|2019-01-09|6449599.76|    0.0|\n",
      "|2019-01-10|6477841.58|    0.0|\n",
      "|2019-01-11|6485556.17|    0.0|\n",
      "|2019-01-12|6485553.38|    0.0|\n",
      "|2019-01-13|6485550.59|    0.0|\n",
      "|2019-01-14|6463355.41|    0.0|\n",
      "|2019-01-15|6505456.63|    0.0|\n",
      "|2019-01-16|6532307.64|    0.0|\n",
      "|2019-01-17| 6545252.4|    0.0|\n",
      "|2019-01-18|6581208.09|    0.0|\n",
      "|2019-01-19|6581205.75|    0.0|\n",
      "|2019-01-20|6581203.41|    0.0|\n",
      "|2019-01-21|6580996.38|    0.0|\n",
      "|2019-01-22|6561812.16|    0.0|\n",
      "|2019-01-23|6546174.21|-7500.0|\n",
      "|2019-01-24| 6555704.7|-1100.0|\n",
      "+----------+----------+-------+\n",
      "only showing top 25 rows\n",
      "\n"
     ]
    }
   ],
   "source": [
    "df = df.na.fill(0.0, 'apport')\n",
    "\n",
    "df.printSchema()\n",
    "df.show(25)"
   ]
  },
  {
   "cell_type": "markdown",
   "metadata": {},
   "source": [
    "## Calculating performance for 1 day"
   ]
  },
  {
   "cell_type": "code",
   "execution_count": 6,
   "metadata": {
    "collapsed": true
   },
   "outputs": [
    {
     "name": "stdout",
     "output_type": "stream",
     "text": [
      "root\n",
      " |-- date: date (nullable = true)\n",
      " |-- estimation: double (nullable = true)\n",
      " |-- apport: double (nullable = false)\n",
      " |-- performance_1_jour: double (nullable = false)\n",
      "\n",
      "+----------+----------+-------+--------------------+\n",
      "|      date|estimation| apport|  performance_1_jour|\n",
      "+----------+----------+-------+--------------------+\n",
      "|2018-12-31|6318450.97|    0.0|                 0.0|\n",
      "|2019-01-01|6318450.67|    0.0|-4.74799917318556...|\n",
      "|2019-01-02|6316540.41|    0.0|-3.02330444561305...|\n",
      "|2019-01-03| 6304647.2|    0.0|-0.00188286771365...|\n",
      "|2019-01-04|6370469.52|    0.0| 0.01044028601632132|\n",
      "|2019-01-05|6370469.16|    0.0|-5.65107482696116...|\n",
      "|2019-01-06| 6370468.8|    0.0|-5.65107516092701...|\n",
      "|2019-01-07| 6385205.4|    0.0|0.002313267745695...|\n",
      "|2019-01-08| 6413834.2|    0.0|0.004483614575656378|\n",
      "|2019-01-09|6449599.76|    0.0|0.005576315022299701|\n",
      "|2019-01-10|6477841.58|    0.0|0.004378848463613857|\n",
      "|2019-01-11|6485556.17|    0.0|0.001190919831046...|\n",
      "|2019-01-12|6485553.38|    0.0|-4.30186699013240...|\n",
      "|2019-01-13|6485550.59|    0.0|-4.30186884073915...|\n",
      "|2019-01-14|6463355.41|    0.0|-0.00342225069282...|\n",
      "|2019-01-15|6505456.63|    0.0| 0.00651383334650937|\n",
      "|2019-01-16|6532307.64|    0.0|0.004127459689174...|\n",
      "|2019-01-17| 6545252.4|    0.0|0.001981651923546073|\n",
      "|2019-01-18|6581208.09|    0.0|0.005493400071172118|\n",
      "|2019-01-19|6581205.75|    0.0|-3.55557819757525...|\n",
      "|2019-01-20|6581203.41|    0.0|-3.55557946178933...|\n",
      "|2019-01-21|6580996.38|    0.0|-3.14577725535246...|\n",
      "|2019-01-22|6561812.16|    0.0|-0.00291509353481...|\n",
      "|2019-01-23|6546174.21|-7500.0|-0.00124019856124...|\n",
      "|2019-01-24| 6555704.7|-1100.0|0.001623924090465...|\n",
      "+----------+----------+-------+--------------------+\n",
      "only showing top 25 rows\n",
      "\n"
     ]
    }
   ],
   "source": [
    "window = Window.orderBy(df.date)\n",
    "\n",
    "df_res = df.withColumn('performance_1_day', (df.estimation - df.apport - lag(df.estimation, 1).over(window)) / lag(df.estimation, 1).over(window))\n",
    "df_res = df_res.na.fill(0.0, 'performance_1_day')\n",
    "\n",
    "\n",
    "df_res.printSchema()\n",
    "df_res.show(25)"
   ]
  },
  {
   "cell_type": "markdown",
   "metadata": {},
   "source": [
    "## Calculating cumulative performance"
   ]
  },
  {
   "cell_type": "code",
   "execution_count": 7,
   "metadata": {
    "collapsed": true
   },
   "outputs": [
    {
     "name": "stdout",
     "output_type": "stream",
     "text": [
      "root\n",
      " |-- date: date (nullable = true)\n",
      " |-- estimation: double (nullable = true)\n",
      " |-- apport: double (nullable = true)\n",
      " |-- performance_1_jour: double (nullable = true)\n",
      " |-- performance_cumulee: double (nullable = true)\n",
      "\n",
      "+----------+----------+-------+--------------------+--------------------+\n",
      "|      date|estimation| apport|  performance_1_jour| performance_cumulee|\n",
      "+----------+----------+-------+--------------------+--------------------+\n",
      "|2018-12-31|6318450.97|    0.0|                 0.0|                 0.0|\n",
      "|2019-01-01|6318450.67|    0.0|-4.74799917318556...|-4.74799917318556...|\n",
      "|2019-01-02|6316540.41|    0.0|-3.02330444561305...|-3.02377910198381...|\n",
      "|2019-01-03| 6304647.2|    0.0|-0.00188286771365...|-0.00218467628625...|\n",
      "|2019-01-04|6370469.52|    0.0| 0.01044028601632132|0.008232801084788521|\n",
      "|2019-01-05|6370469.16|    0.0|-5.65107482696116...|0.008232744108798373|\n",
      "|2019-01-06| 6370468.8|    0.0|-5.65107516092701...|0.008232687132808225|\n",
      "|2019-01-07| 6385205.4|    0.0|0.002313267745695...|  0.0105649992881085|\n",
      "|2019-01-08| 6413834.2|    0.0|0.004483614575656378| 0.01509598324856487|\n",
      "|2019-01-09|6449599.76|    0.0|0.005576315022299701| 0.02075647822902993|\n",
      "|2019-01-10|6477841.58|    0.0|0.004378848463613857|0.025226216165446846|\n",
      "|2019-01-11|6485556.17|    0.0|0.001190919831046...|0.026447178397587034|\n",
      "|2019-01-12|6485553.38|    0.0|-4.30186699013240...| 0.02644673683366361|\n",
      "|2019-01-13|6485550.59|    0.0|-4.30186884073915...|0.026446295269740183|\n",
      "|2019-01-14|6463355.41|    0.0|-0.00342225069282...|0.022933538724602354|\n",
      "|2019-01-15|6505456.63|    0.0| 0.00651383334650937| 0.02959675732040945|\n",
      "|2019-01-16|6532307.64|    0.0|0.004127459689174...| 0.03384637643235444|\n",
      "|2019-01-17| 6545252.4|    0.0|0.001981651923546073|0.035895100092862675|\n",
      "|2019-01-18|6581208.09|    0.0|0.005493400071172118| 0.04158568630943971|\n",
      "|2019-01-19|6581205.75|    0.0|-3.55557819757525...|0.041585315965503966|\n",
      "|2019-01-20|6581203.41|    0.0|-3.55557946178933...|0.041584945621568226|\n",
      "|2019-01-21|6580996.38|    0.0|-3.14577725535246...| 0.04155217967925373|\n",
      "|2019-01-22|6561812.16|    0.0|-0.00291509353481...| 0.03851595765409499|\n",
      "|2019-01-23|6546174.21|-7500.0|-0.00124019856124...| 0.03722799165758106|\n",
      "|2019-01-24| 6555704.7|-1100.0|0.001623924090465...|0.038912371180538585|\n",
      "+----------+----------+-------+--------------------+--------------------+\n",
      "only showing top 25 rows\n",
      "\n"
     ]
    }
   ],
   "source": [
    "df_res = df_res.withColumn('cumulative_performance', df_res.performance_1_jour)\n",
    "\n",
    "rdd = df_res.rdd.map(lambda r: r)\n",
    "\n",
    "def get_cumulative_performance(portf_rows):\n",
    "    rows = sorted(portf_rows, key=lambda r: r['date'])\n",
    "    computed_rows = []\n",
    "    \n",
    "    for k, row in enumerate(rows):\n",
    "        row = row.asDict()\n",
    "        if k > 1:\n",
    "            row['cumulative_performance'] = (row['cumulative_performance'] + 1) * (computed_rows[(k - 1)]['cumulative_performance'] + 1) - 1\n",
    "        computed_rows.append(Row(**row))      \n",
    "    return computed_rows\n",
    "\n",
    "computed = get_cumulative_performance(rdd.collect())\n",
    "\n",
    "df_res = spark.createDataFrame(computed).select('date', 'estimation', 'apport', 'performance_1_day', 'cumulative_performance')\n",
    "\n",
    "df_res.printSchema()\n",
    "df_res.show(25)"
   ]
  },
  {
   "cell_type": "markdown",
   "metadata": {},
   "source": [
    "## Visualizing the data\n",
    "### Using Matplotlib\n",
    "Matplotlib is a Python 2D plotting library which produces publication quality figures in a variety of hardcopy formats and interactive environments across platforms."
   ]
  },
  {
   "cell_type": "code",
   "execution_count": 9,
   "metadata": {
    "scrolled": false
   },
   "outputs": [
    {
     "data": {
      "image/png": "[encoded data removed]",
      "text/plain": [
       "<Figure size 1080x504 with 1 Axes>"
      ]
     },
     "metadata": {
      "needs_background": "light"
     },
     "output_type": "display_data"
    }
   ],
   "source": [
    "import matplotlib.pyplot as plt\n",
    "import pandas as pd\n",
    "\n",
    "df = df_res\n",
    "df = df.withColumn('date', to_timestamp(df.date, 'dd.MM.yyyy'))\n",
    "pd_df = df.toPandas()\n",
    "\n",
    "plt.figure(figsize=(15,7))\n",
    "plt.plot(pd_df.performance_cumulee)\n",
    "\n",
    "plt.gca().set_yticklabels(['{:.0f}%'.format(x * 100) for x in plt.gca().get_yticks()]) \n",
    "plt.xticks([])\n",
    "\n",
    "plt.axes().yaxis.grid()\n",
    "\n",
    "plt.show()"
   ]
  },
  {
   "cell_type": "code",
   "execution_count": 10,
   "metadata": {},
   "outputs": [
    {
     "data": {
      "image/png": "[encoded data removed]",
      "text/plain": [
       "<Figure size 1080x504 with 1 Axes>"
      ]
     },
     "metadata": {
      "needs_background": "light"
     },
     "output_type": "display_data"
    }
   ],
   "source": [
    "data = [['2019-01-31', 0.050228406], ['2019-02-28', 0.01144471], ['2019-03-29', 0.002225]]\n",
    "pd_df = pd.DataFrame(data, columns=['date', 'performance_cumulee'])\n",
    "\n",
    "plt.figure(figsize=(15,7))\n",
    "plt.bar(pd_df.date, pd_df.performance_cumulee, color=('#ffe699'))\n",
    "\n",
    "plt.gca().set_yticklabels(['{:.0f}%'.format(x * 100) for x in plt.gca().get_yticks()])\n",
    "plt.xticks([])\n",
    "\n",
    "plt.axes().yaxis.grid()\n",
    "\n",
    "plt.show()"
   ]
  },
  {
   "cell_type": "markdown",
   "metadata": {},
   "source": [
    "### Using Seaborn\n",
    "Seaborn is a Python data visualization library based on matplotlib. It provides a high-level interface for drawing attractive and informative statistical graphics."
   ]
  },
  {
   "cell_type": "code",
   "execution_count": 49,
   "metadata": {},
   "outputs": [
    {
     "data": {
      "image/png": "[encoded data removed]",
      "text/plain": [
       "<Figure size 1080x504 with 1 Axes>"
      ]
     },
     "metadata": {},
     "output_type": "display_data"
    }
   ],
   "source": [
    "import seaborn as sb\n",
    "\n",
    "df = df_res\n",
    "df = df.withColumn('date', to_timestamp(df.date, 'dd.MM.yyyy'))\n",
    "pd_df = df.toPandas()\n",
    "\n",
    "sb.set_style('whitegrid')\n",
    "\n",
    "plt.figure(figsize=(15, 7))\n",
    "\n",
    "plt.plot(pd_df.date, pd_df.performance_cumulee)\n",
    "\n",
    "plt.gca().set_yticklabels(['{:.0f}%'.format(x*100) for x in plt.gca().get_yticks()]) \n",
    "plt.xticks([])\n",
    "\n",
    "plt.show()"
   ]
  },
  {
   "cell_type": "code",
   "execution_count": 47,
   "metadata": {},
   "outputs": [
    {
     "data": {
      "image/png": "[encoded data removed]",
      "text/plain": [
       "<Figure size 1080x504 with 1 Axes>"
      ]
     },
     "metadata": {},
     "output_type": "display_data"
    }
   ],
   "source": [
    "data = [['2019-01-31', 0.050228406], ['2019-02-28', 0.01144471], ['2019-03-29', 0.002225]]\n",
    "pd_df = pd.DataFrame(data, columns=['date', 'performance_cumulee'])\n",
    "\n",
    "plt.figure(figsize=(15, 7))\n",
    "\n",
    "sb.set(style=\"whitegrid\")\n",
    "sb.barplot(y='performance_cumulee', x='date', data=pd_df, color='#ffe699')\n",
    "\n",
    "plt.gca().set_yticklabels(['{:.0f}%'.format(x * 100) for x in plt.gca().get_yticks()]) \n",
    "plt.xticks([])\n",
    "plt.xlabel('')\n",
    "plt.ylabel('')\n",
    "\n",
    "plt.show()"
   ]
  }
 ],
 "metadata": {
  "kernelspec": {
   "display_name": "Python 3",
   "language": "python",
   "name": "python3"
  },
  "language_info": {
   "codemirror_mode": {
    "name": "ipython",
    "version": 3
   },
   "file_extension": ".py",
   "mimetype": "text/x-python",
   "name": "python",
   "nbconvert_exporter": "python",
   "pygments_lexer": "ipython3",
   "version": "3.7.3"
  }
 },
 "nbformat": 4,
 "nbformat_minor": 2
}
